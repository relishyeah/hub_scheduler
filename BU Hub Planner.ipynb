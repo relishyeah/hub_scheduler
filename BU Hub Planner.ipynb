{
 "cells": [
  {
   "cell_type": "code",
   "execution_count": 109,
   "metadata": {},
   "outputs": [
    {
     "name": "stdout",
     "output_type": "stream",
     "text": [
      "[+] Success\n"
     ]
    }
   ],
   "source": [
    "import urllib\n",
    "from selenium import webdriver\n",
    "from selenium.webdriver.common.keys import Keys\n",
    "import time\n",
    "\n",
    "import re\n",
    "from bs4 import BeautifulSoup\n",
    "from selenium.common.exceptions import NoSuchElementException\n",
    "\n",
    "%run  secret.py\n",
    "\n",
    "print(\"[+] Success\")"
   ]
  },
  {
   "cell_type": "code",
   "execution_count": null,
   "metadata": {},
   "outputs": [],
   "source": []
  },
  {
   "cell_type": "code",
   "execution_count": null,
   "metadata": {},
   "outputs": [],
   "source": [
    "#username in secret.py as user\n",
    "#passwor4d in secret.py as pword\n",
    "'''\n",
    "#enters password and logs in\n",
    "u_field = driver.find_element_by_id('j_username')\n",
    "u_field.send_keys(user)\n",
    "\n",
    "p_field = driver.find_element_by_id('j_password')\n",
    "p_field.send_keys(pword)\n",
    "p_field.send_keys(Keys.RETURN)\n",
    "\n",
    "#gives time to deal with two facor authentication, work around later?\n",
    "time.sleep(10)'''"
   ]
  },
  {
   "cell_type": "code",
   "execution_count": 152,
   "metadata": {},
   "outputs": [],
   "source": [
    "def get_current_classes(url,classes):\n",
    "    #Opens new window in Chrome and navigates to CAS classes\n",
    "    driver = webdriver.Chrome()\n",
    "    driver.get(url)\n",
    "    #clss number regex\n",
    "    numRegex = re.compile(r\"\\n([A-Z]{3})\\s([A-Z]{2}\\d{3})\")\n",
    "\n",
    "    #loop gets all classes on page, adds to set,goes to next page until complete\n",
    "    while(True):\n",
    "        html = driver.page_source\n",
    "        soup = BeautifulSoup(html)\n",
    "        for i in numRegex.findall(soup.get_text()):\n",
    "            classes.add(i)\n",
    "        try:\n",
    "            driver.find_element_by_xpath(\"//input[@value='Continue Subject Listing']\").click()\n",
    "        except NoSuchElementException:\n",
    "            print(\"[+]Complete\")\n",
    "            driver.close()\n",
    "            break\n",
    "    \n"
   ]
  },
  {
   "cell_type": "code",
   "execution_count": 161,
   "metadata": {},
   "outputs": [
    {
     "name": "stdout",
     "output_type": "stream",
     "text": [
      "[+]Complete\n",
      "[+]Complete\n"
     ]
    }
   ],
   "source": [
    "spring_url = \"https://www.bu.edu/link/bin/uiscgi_studentlink.pl/1583604776?ModuleName=univschr.pl&SearchOptionDesc=Class+Subject&SearchOptionCd=C&KeySem=20204&ViewSem=Spring+2020&Subject=&MtgDay=&MtgTime=\"\n",
    "fall_url = \"https://www.bu.edu/link/bin/uiscgi_studentlink.pl/1583612236?ModuleName=univschr.pl&SearchOptionDesc=Class+Subject&SearchOptionCd=C&KeySem=20213&ViewSem=Fall+2020&Subject=&MtgDay=&MtgTime=\"\n",
    "spring_classes = set()\n",
    "fall_classes = set()\n",
    "\n",
    "get_current_classes(spring_url,spring_classes)\n",
    "get_current_classes(fall_url,fall_classes)"
   ]
  },
  {
   "cell_type": "code",
   "execution_count": null,
   "metadata": {},
   "outputs": [],
   "source": []
  },
  {
   "cell_type": "code",
   "execution_count": 173,
   "metadata": {},
   "outputs": [
    {
     "name": "stdout",
     "output_type": "stream",
     "text": [
      "4078\n",
      "4119\n"
     ]
    }
   ],
   "source": [
    "print(len(spring_classes))\n",
    "print(len(fall_classes))"
   ]
  }
 ],
 "metadata": {
  "kernelspec": {
   "display_name": "Python 3",
   "language": "python",
   "name": "python3"
  },
  "language_info": {
   "codemirror_mode": {
    "name": "ipython",
    "version": 3
   },
   "file_extension": ".py",
   "mimetype": "text/x-python",
   "name": "python",
   "nbconvert_exporter": "python",
   "pygments_lexer": "ipython3",
   "version": "3.7.3"
  }
 },
 "nbformat": 4,
 "nbformat_minor": 2
}
